{
 "cells": [
  {
   "cell_type": "markdown",
   "metadata": {},
   "source": [
    "# 1、数据说明\n",
    "## (1) X：本研究使用15个技术指标，其中每个技术指标有15个不同的周期长度，因此得到的特征（因子数）为225（15×15）个。然后将225个特征转换为15×15的图像。 即：将数据从 samples×225 变成 samples×15×15再变成samples ×3 × 15 × 15 (简单复制)，其中samples为样本量，3为通道数，15×15分别为图片的长和宽。\n",
    "## (2) Y：将数据标记为0：买入(buy)、1：卖出(sell) 和 2：持有(hold)  (具体标记方法见create_labels函数)"
   ]
  },
  {
   "cell_type": "markdown",
   "metadata": {},
   "source": [
    "# 2、模型选择\n",
    "## 使用CNN网络进行训练以及预测"
   ]
  },
  {
   "cell_type": "markdown",
   "metadata": {},
   "source": [
    "# 3、数据预处理"
   ]
  },
  {
   "cell_type": "code",
   "execution_count": 1,
   "metadata": {},
   "outputs": [],
   "source": [
    "import pandas as pd\n",
    "import numpy as np\n",
    "from tqdm.auto import tqdm\n",
    "\n",
    "from ta.momentum import *\n",
    "from ta.trend import *\n",
    "from ta.volume import *\n",
    "from ta.others import *\n",
    "from ta.volatility import *\n",
    "from ta import *\n",
    "from stockstats import StockDataFrame as sdf\n",
    "import time\n",
    "\n",
    "\n",
    "import warnings\n",
    "warnings.filterwarnings('ignore')\n",
    "\n",
    "from sklearn.preprocessing import MinMaxScaler, OneHotEncoder\n",
    "from sklearn.model_selection import train_test_split\n",
    "\n",
    "\n",
    "from operator import itemgetter\n",
    "from sklearn.feature_selection import SelectKBest, f_classif, mutual_info_classif\n",
    "from sklearn.utils.class_weight import compute_class_weight\n",
    "\n",
    "import matplotlib.pyplot as plt\n",
    "from IPython.display import Image"
   ]
  },
  {
   "cell_type": "code",
   "execution_count": 2,
   "metadata": {},
   "outputs": [
    {
     "data": {
      "text/html": [
       "<div>\n",
       "<style scoped>\n",
       "    .dataframe tbody tr th:only-of-type {\n",
       "        vertical-align: middle;\n",
       "    }\n",
       "\n",
       "    .dataframe tbody tr th {\n",
       "        vertical-align: top;\n",
       "    }\n",
       "\n",
       "    .dataframe thead th {\n",
       "        text-align: right;\n",
       "    }\n",
       "</style>\n",
       "<table border=\"1\" class=\"dataframe\">\n",
       "  <thead>\n",
       "    <tr style=\"text-align: right;\">\n",
       "      <th></th>\n",
       "      <th>open</th>\n",
       "      <th>high</th>\n",
       "      <th>low</th>\n",
       "      <th>close</th>\n",
       "      <th>adjusted_close</th>\n",
       "      <th>volume</th>\n",
       "      <th>dividend_amount</th>\n",
       "      <th>split_coefficient</th>\n",
       "    </tr>\n",
       "    <tr>\n",
       "      <th>timestamp</th>\n",
       "      <th></th>\n",
       "      <th></th>\n",
       "      <th></th>\n",
       "      <th></th>\n",
       "      <th></th>\n",
       "      <th></th>\n",
       "      <th></th>\n",
       "      <th></th>\n",
       "    </tr>\n",
       "  </thead>\n",
       "  <tbody>\n",
       "    <tr>\n",
       "      <td>2000-01-10</td>\n",
       "      <td>67.25</td>\n",
       "      <td>67.50</td>\n",
       "      <td>65.63</td>\n",
       "      <td>67.25</td>\n",
       "      <td>46.7049</td>\n",
       "      <td>6714300</td>\n",
       "      <td>0.0</td>\n",
       "      <td>1.0</td>\n",
       "    </tr>\n",
       "    <tr>\n",
       "      <td>2000-01-11</td>\n",
       "      <td>67.06</td>\n",
       "      <td>67.75</td>\n",
       "      <td>65.63</td>\n",
       "      <td>66.25</td>\n",
       "      <td>46.0104</td>\n",
       "      <td>4943300</td>\n",
       "      <td>0.0</td>\n",
       "      <td>1.0</td>\n",
       "    </tr>\n",
       "    <tr>\n",
       "      <td>2000-01-12</td>\n",
       "      <td>66.19</td>\n",
       "      <td>66.75</td>\n",
       "      <td>65.06</td>\n",
       "      <td>65.06</td>\n",
       "      <td>45.1839</td>\n",
       "      <td>4085000</td>\n",
       "      <td>0.0</td>\n",
       "      <td>1.0</td>\n",
       "    </tr>\n",
       "    <tr>\n",
       "      <td>2000-01-13</td>\n",
       "      <td>66.00</td>\n",
       "      <td>66.13</td>\n",
       "      <td>65.00</td>\n",
       "      <td>65.13</td>\n",
       "      <td>45.2325</td>\n",
       "      <td>5021000</td>\n",
       "      <td>0.0</td>\n",
       "      <td>1.0</td>\n",
       "    </tr>\n",
       "    <tr>\n",
       "      <td>2000-01-14</td>\n",
       "      <td>64.00</td>\n",
       "      <td>65.94</td>\n",
       "      <td>64.00</td>\n",
       "      <td>64.50</td>\n",
       "      <td>44.7950</td>\n",
       "      <td>6312200</td>\n",
       "      <td>0.0</td>\n",
       "      <td>1.0</td>\n",
       "    </tr>\n",
       "  </tbody>\n",
       "</table>\n",
       "</div>"
      ],
      "text/plain": [
       "             open   high    low  close  adjusted_close   volume  \\\n",
       "timestamp                                                         \n",
       "2000-01-10  67.25  67.50  65.63  67.25         46.7049  6714300   \n",
       "2000-01-11  67.06  67.75  65.63  66.25         46.0104  4943300   \n",
       "2000-01-12  66.19  66.75  65.06  65.06         45.1839  4085000   \n",
       "2000-01-13  66.00  66.13  65.00  65.13         45.2325  5021000   \n",
       "2000-01-14  64.00  65.94  64.00  64.50         44.7950  6312200   \n",
       "\n",
       "            dividend_amount  split_coefficient  \n",
       "timestamp                                       \n",
       "2000-01-10              0.0                1.0  \n",
       "2000-01-11              0.0                1.0  \n",
       "2000-01-12              0.0                1.0  \n",
       "2000-01-13              0.0                1.0  \n",
       "2000-01-14              0.0                1.0  "
      ]
     },
     "execution_count": 2,
     "metadata": {},
     "output_type": "execute_result"
    }
   ],
   "source": [
    "# 基础数据\n",
    "data = pd.read_csv(\"C:/Users/82706/Desktop/CNN-图像/stock_history/WMT/WMT.csv\",index_col=0)\n",
    "data.sort_index(ascending=True, inplace=True)\n",
    "data.head()"
   ]
  },
  {
   "cell_type": "markdown",
   "metadata": {},
   "source": [
    "## 3.1 生成X\n",
    "### X包含：RSI、williamR、mif、ROC、CMF、CMO、SMA、EMA、WMA、HMA、TRIX、CCI、DPO、kst、DMI、BB_MAV、force_index、kdjk_rsv、EOM"
   ]
  },
  {
   "cell_type": "code",
   "execution_count": 3,
   "metadata": {},
   "outputs": [],
   "source": [
    "##################计算特征（因子）函数#####################\n",
    "def get_RSI_smooth(df, col_name, intervals):\n",
    "    \"\"\"\n",
    "    RSI_1 = 100 - (100/ (1 + (avg gain% / avg loss%) ) )\n",
    "    RSI_2 = 100 - (100/ (1 + (prev_avg_gain*13+avg gain% / prev_avg_loss*13 + avg loss%) ) )\n",
    "    \"\"\"\n",
    "    print(\"Calculating RSI\")\n",
    "    prev_rsi = np.inf\n",
    "    prev_avg_gain = np.inf\n",
    "    prev_avg_loss = np.inf\n",
    "    rolling_count = 0\n",
    "\n",
    "    def calculate_RSI(series, period):\n",
    "        # nonlocal rolling_count\n",
    "        nonlocal prev_avg_gain\n",
    "        nonlocal prev_avg_loss\n",
    "        nonlocal rolling_count\n",
    "\n",
    "        curr_gains = series.where(series >= 0, 0)  # replace 0 where series not > 0\n",
    "        curr_losses = np.abs(series.where(series < 0, 0))\n",
    "        avg_gain = curr_gains.sum() / period  # * 100\n",
    "        avg_loss = curr_losses.sum() / period  # * 100\n",
    "        rsi = -1\n",
    "\n",
    "        if rolling_count == 0:\n",
    "            # first RSI calculation\n",
    "            rsi = 100 - (100 / (1 + (avg_gain / avg_loss)))\n",
    "            # print(rolling_count,\"rs1=\",rs, rsi)\n",
    "        else:\n",
    "            # smoothed RSI\n",
    "            # current gain and loss should be used, not avg_gain & avg_loss\n",
    "            rsi = 100 - (100 / (1 + ((prev_avg_gain * (period - 1) + curr_gains.iloc[-1]) /\n",
    "                                     (prev_avg_loss * (period - 1) + curr_losses.iloc[-1]))))\n",
    "            # print(rolling_count,\"rs2=\",rs, rsi)\n",
    "\n",
    "        # df['rsi_'+str(period)+'_own'][period + rolling_count] = rsi\n",
    "        rolling_count = rolling_count + 1\n",
    "        prev_avg_gain = avg_gain\n",
    "        prev_avg_loss = avg_loss\n",
    "        return rsi\n",
    "    \n",
    "    diff = df[col_name].diff()[1:]  # skip na\n",
    "    for period in tqdm(intervals):\n",
    "        df['rsi_' + str(period)] = np.nan\n",
    "        # df['rsi_'+str(period)+'_own_1'] = np.nan\n",
    "        rolling_count = 0\n",
    "        res = diff.rolling(period).apply(calculate_RSI, args=(period,), raw=False)\n",
    "        df['rsi_' + str(period)][1:] = res \n",
    "   \n",
    "    return df\n",
    "\n",
    "def get_williamR(df, col_name, intervals):\n",
    "    print(\"Calculating WilliamR\")\n",
    "    for i in tqdm(intervals):\n",
    "        df[\"wr_\" + str(i)] = wr(df['high'], df['low'], df['close'], i, fillna=True)\n",
    "    \n",
    "    return df\n",
    "\n",
    "def get_mfi(df, intervals):\n",
    "    print(\"Calculating MFI\")\n",
    "    for i in tqdm(intervals):\n",
    "        df['mfi_' + str(i)] = money_flow_index(df['high'], df['low'], df['close'], df['volume'], n=i, fillna=True)\n",
    "\n",
    "    return df\n",
    " \n",
    "def get_ROC(df, col_name, intervals):\n",
    "    \"\"\"\n",
    "    Momentum oscillator\n",
    "    As per implement https://www.investopedia.com/terms/p/pricerateofchange.asp\n",
    "    https://school.stockcharts.com/doku.php?id=technical_indicators:rate_of_change_roc_and_momentum\n",
    "    ROC = (close_price_n - close_price_(n-1) )/close_price_(n-1) * 100\n",
    "\n",
    "    params: df -> dataframe with financial instrument history\n",
    "            col_name -> column name for which CMO is to be calculated\n",
    "            intervals -> list of periods for which to calculated\n",
    "\n",
    "    return: None (adds the result in a column)\n",
    "    \"\"\"\n",
    "    print(\"Calculating ROC\")\n",
    "\n",
    "    def calculate_roc(series, period):\n",
    "        return ((series.iloc[-1] - series.iloc[0]) / series.iloc[0]) * 100\n",
    "\n",
    "    for period in intervals:\n",
    "        df['roc_' + str(period)] = np.nan\n",
    "        # for 12 day period, 13th day price - 1st day price\n",
    "        res = df['close'].rolling(period + 1).apply(calculate_roc, args=(period,), raw=False)\n",
    "        # print(len(df), len(df[period:]), len(res))\n",
    "        df['roc_' + str(period)] = res\n",
    "\n",
    "    return df\n",
    "\n",
    "def get_CMF(df, col_name, intervals):\n",
    "    print(\"Calculating CMF\")\n",
    "    for i in tqdm(intervals):\n",
    "        df['cmf_' + str(i)] = chaikin_money_flow(df['high'], df['low'], df['close'], df['volume'], i, fillna=True)\n",
    "\n",
    "    return df\n",
    "\n",
    "\n",
    "def get_CMO(df, col_name, intervals):\n",
    "    \"\"\"\n",
    "    CMO = 100 * ((Sum(ups) - Sum(downs))/ ( (Sum(ups) + Sum(downs) ) )\n",
    "    range = +100 to -100\n",
    "    \"\"\"\n",
    "    print(\"Calculating CMO\")\n",
    "    def calculate_CMO(series, period):\n",
    "        sum_gains = series[series >= 0].sum()\n",
    "        sum_losses = np.abs(series[series < 0].sum())\n",
    "        cmo = 100 * ((sum_gains - sum_losses) / (sum_gains + sum_losses))\n",
    "        return np.round(cmo, 3)\n",
    "\n",
    "    diff = df[col_name].diff()[1:]  # skip na\n",
    "    for period in tqdm(intervals):\n",
    "        df['cmo_' + str(period)] = np.nan\n",
    "        res = diff.rolling(period).apply(calculate_CMO, args=(period,), raw=False)\n",
    "        df['cmo_' + str(period)][1:] = res\n",
    "\n",
    "    return df\n",
    "\n",
    "def get_SMA(df, col_name, intervals):\n",
    "    print(\"Calculating SMA\")\n",
    "    df_ss = sdf.retype(df)\n",
    "    for i in tqdm(intervals):\n",
    "        df[col_name + '_sma_' + str(i)] = df_ss[col_name + '_' + str(i) + '_sma']\n",
    "        del df[col_name + '_' + str(i) + '_sma']\n",
    "\n",
    "    return df\n",
    "\n",
    "def get_EMA(df, col_name, intervals):\n",
    "    print(\"Calculating EMA\")\n",
    "    df_ss = sdf.retype(df)\n",
    "    for i in tqdm(intervals):\n",
    "        df['ema_' + str(i)] = df_ss[col_name + '_' + str(i) + '_ema']\n",
    "        del df[col_name + '_' + str(i) + '_ema']\n",
    "\n",
    "    return df\n",
    "\n",
    "\n",
    "def get_WMA(df, col_name, intervals, hma_step=0):\n",
    "    if (hma_step == 0):\n",
    "        # don't show progress for internal WMA calculation for HMA\n",
    "        print(\"Calculating WMA\")\n",
    "\n",
    "    def wavg(rolling_prices, period):\n",
    "        weights = pd.Series(range(1, period + 1))\n",
    "        return np.multiply(rolling_prices.values, weights.values).sum() / weights.sum()\n",
    "\n",
    "    temp_col_count_dict = {}\n",
    "    for i in tqdm(intervals, disable=(hma_step != 0)):\n",
    "        res = df[col_name].rolling(i).apply(wavg, args=(i,), raw=False)\n",
    "        # print(\"interval {} has unique values {}\".format(i, res.unique()))\n",
    "        if hma_step == 0:\n",
    "            df['wma_' + str(i)] = res\n",
    "        elif hma_step == 1:\n",
    "            if 'hma_wma_' + str(i) in temp_col_count_dict.keys():\n",
    "                temp_col_count_dict['hma_wma_' + str(i)] = temp_col_count_dict['hma_wma_' + str(i)] + 1\n",
    "            else:\n",
    "                temp_col_count_dict['hma_wma_' + str(i)] = 0\n",
    "            # after halving the periods and rounding, there may be two intervals with same value e.g.\n",
    "            # 2.6 & 2.8 both would lead to same value (3) after rounding. So save as diff columns\n",
    "            df['hma_wma_' + str(i) + '_' + str(temp_col_count_dict['hma_wma_' + str(i)])] = 2 * res\n",
    "        elif hma_step == 3:\n",
    "            import re\n",
    "            expr = r\"^hma_[0-9]{1}\"\n",
    "            columns = list(df.columns)\n",
    "            # print(\"searching\", expr, \"in\", columns, \"res=\", list(filter(re.compile(expr).search, columns)))\n",
    "            df['hma_' + str(len(list(filter(re.compile(expr).search, columns))))] = res\n",
    "\n",
    "    return df\n",
    "\n",
    "\n",
    "def get_HMA(df, col_name, intervals):\n",
    "    import re\n",
    "    print(\"Calculating HMA\")\n",
    "    expr = r\"^wma_.*\"\n",
    "\n",
    "    if len(list(filter(re.compile(expr).search, list(df.columns)))) > 0:\n",
    "        print(\"WMA calculated already. Proceed with HMA\")\n",
    "    else:\n",
    "        print(\"Need WMA first...\")\n",
    "        get_WMA(df, col_name, intervals)\n",
    "\n",
    "    intervals_half = np.round([i / 2 for i in intervals]).astype(int)\n",
    "\n",
    "    # step 1 = WMA for interval/2\n",
    "    # this creates cols with prefix 'hma_wma_*'\n",
    "    get_WMA(df, col_name, intervals_half, 1)\n",
    "    # print(\"step 1 done\", list(df.columns))\n",
    "\n",
    "    # step 2 = step 1 - WMA\n",
    "    columns = list(df.columns)\n",
    "    expr = r\"^hma_wma.*\"\n",
    "    hma_wma_cols = list(filter(re.compile(expr).search, columns))\n",
    "    rest_cols = [x for x in columns if x not in hma_wma_cols]\n",
    "    expr = r\"^wma.*\"\n",
    "    wma_cols = list(filter(re.compile(expr).search, rest_cols))\n",
    "\n",
    "    df[hma_wma_cols] = df[hma_wma_cols].sub(df[wma_cols].values,\n",
    "                                            fill_value=0)  # .rename(index=str, columns={\"close\": \"col1\", \"rsi_6\": \"col2\"})\n",
    "    # df[0:10].copy().reset_index(drop=True).merge(temp.reset_index(drop=True), left_index=True, right_index=True)\n",
    "\n",
    "    # step 3 = WMA(step 2, interval = sqrt(n))\n",
    "    intervals_sqrt = np.round([np.sqrt(i) for i in intervals]).astype(int)\n",
    "    for i, col in tqdm(enumerate(hma_wma_cols)):\n",
    "        # print(\"step 3\", col, intervals_sqrt[i])\n",
    "        get_WMA(df, col, [intervals_sqrt[i]], 3)\n",
    "    df.drop(columns=hma_wma_cols, inplace=True)\n",
    "    return df\n",
    "\n",
    "def get_TRIX(df, col_name, intervals):\n",
    "    print(\"Calculating TRIX\")\n",
    "    df_ss = sdf.retype(df)\n",
    "    for i in tqdm(intervals):\n",
    "        df['trix_' + str(i)] = trix(df['close'], i, fillna=True)\n",
    "\n",
    "    return df\n",
    "    \n",
    "def get_CCI(df, col_name, intervals):\n",
    "    print(\"Calculating CCI\")\n",
    "    df_ss = sdf.retype(df)\n",
    "    for i in tqdm(intervals):\n",
    "        df['cci_' + str(i)] = cci(df['high'], df['low'], df['close'], i, fillna=True)\n",
    "\n",
    "    return df\n",
    "    \n",
    "def get_DPO(df, col_name, intervals):\n",
    "    print(\"Calculating DPO\")\n",
    "    for i in tqdm(intervals):\n",
    "        df['dpo_' + str(i)] = dpo(df['close'], n=i)\n",
    "\n",
    "    return df\n",
    "    \n",
    "def get_kst(df, col_name, intervals):\n",
    "    print(\"Calculating KST\")\n",
    "    for i in tqdm(intervals):\n",
    "        df['kst_' + str(i)] = kst(df['close'], i)\n",
    "\n",
    "    return df\n",
    "    \n",
    "def get_DMI(df, col_name, intervals):\n",
    "    print(\"Calculating DMI\")\n",
    "    df_ss = sdf.retype(df)\n",
    "    for i in tqdm(intervals):\n",
    "        df['dmi_' + str(i)] = df_ss['adx_' + str(i) + '_ema']\n",
    "\n",
    "    drop_columns = ['high_delta', 'um', 'low_delta', 'dm', 'pdm', 'pdm_14_ema', 'pdm_14',\n",
    "                    'close_-1_s', 'tr', 'tr_14_smma', 'atr_14']\n",
    "    expr1 = r'dx_\\d+_ema'\n",
    "    expr2 = r'adx_\\d+_ema'\n",
    "    import re\n",
    "    drop_columns.extend(list(filter(re.compile(expr1).search, list(df.columns)[9:])))\n",
    "    drop_columns.extend(list(filter(re.compile(expr2).search, list(df.columns)[9:])))\n",
    "    df.drop(columns=drop_columns, inplace=True)\n",
    "    return df\n",
    "    \n",
    "def get_BB_MAV(df, col_name, intervals):\n",
    "    print(\"Calculating Bollinger Band MAV\")\n",
    "    df_ss = sdf.retype(df)\n",
    "    for i in tqdm(intervals):\n",
    "        df['bb_' + str(i)] = bollinger_mavg(df['close'], n=i, fillna=True)\n",
    "\n",
    "    return df\n",
    "    \n",
    "def get_force_index(df, intervals):\n",
    "    print(\"Calculating Force Index\")\n",
    "    for i in tqdm(intervals):\n",
    "        df['fi_' + str(i)] = force_index(df['close'], df['volume'], 5, fillna=True)\n",
    "\n",
    "    return df\n",
    "    \n",
    "def get_kdjk_rsv(df, intervals):\n",
    "    print(\"Calculating KDJK, RSV\")\n",
    "    df_ss = sdf.retype(df)\n",
    "    for i in tqdm(intervals):\n",
    "        df['kdjk_' + str(i)] = df_ss['kdjk_' + str(i)]\n",
    "\n",
    "    return df\n",
    "\n",
    "def get_EOM(df, col_name, intervals):\n",
    "    print(\"Calculating EOM\")\n",
    "    for i in tqdm(intervals):\n",
    "        df['eom_' + str(i)] = ease_of_movement(df['high'], df['low'], df['volume'], n=i, fillna=True)\n",
    "\n",
    "    return df\n",
    "\n",
    "def get_volume_delta(df):\n",
    "    print(\"Calculating volume delta\")\n",
    "    df_ss = sdf.retype(df)\n",
    "    df['volume_delat'] = df_ss['volume_delta']\n",
    "\n",
    "    return df"
   ]
  },
  {
   "cell_type": "code",
   "execution_count": 4,
   "metadata": {},
   "outputs": [
    {
     "name": "stdout",
     "output_type": "stream",
     "text": [
      "Calculating RSI\n"
     ]
    },
    {
     "data": {
      "application/vnd.jupyter.widget-view+json": {
       "model_id": "8835eed1fd844a8496809e9e96125185",
       "version_major": 2,
       "version_minor": 0
      },
      "text/plain": [
       "HBox(children=(IntProgress(value=0, max=15), HTML(value='')))"
      ]
     },
     "metadata": {},
     "output_type": "display_data"
    },
    {
     "name": "stdout",
     "output_type": "stream",
     "text": [
      "\n",
      "Calculating WilliamR\n"
     ]
    },
    {
     "data": {
      "application/vnd.jupyter.widget-view+json": {
       "model_id": "10f295d73f4c464baf4de540728ae9b7",
       "version_major": 2,
       "version_minor": 0
      },
      "text/plain": [
       "HBox(children=(IntProgress(value=0, max=15), HTML(value='')))"
      ]
     },
     "metadata": {},
     "output_type": "display_data"
    },
    {
     "name": "stdout",
     "output_type": "stream",
     "text": [
      "\n",
      "Calculating MFI\n"
     ]
    },
    {
     "data": {
      "application/vnd.jupyter.widget-view+json": {
       "model_id": "4a59567ed2a342379f9fdcb9c5369e34",
       "version_major": 2,
       "version_minor": 0
      },
      "text/plain": [
       "HBox(children=(IntProgress(value=0, max=15), HTML(value='')))"
      ]
     },
     "metadata": {},
     "output_type": "display_data"
    },
    {
     "name": "stdout",
     "output_type": "stream",
     "text": [
      "\n",
      "Calculating ROC\n",
      "Calculating CMF\n"
     ]
    },
    {
     "data": {
      "application/vnd.jupyter.widget-view+json": {
       "model_id": "6c48c4f9ba8742f1943bbd3234cef77f",
       "version_major": 2,
       "version_minor": 0
      },
      "text/plain": [
       "HBox(children=(IntProgress(value=0, max=15), HTML(value='')))"
      ]
     },
     "metadata": {},
     "output_type": "display_data"
    },
    {
     "name": "stdout",
     "output_type": "stream",
     "text": [
      "\n",
      "Calculating CMO\n"
     ]
    },
    {
     "data": {
      "application/vnd.jupyter.widget-view+json": {
       "model_id": "ce9a460d34a1424a9bd7245415d8ec65",
       "version_major": 2,
       "version_minor": 0
      },
      "text/plain": [
       "HBox(children=(IntProgress(value=0, max=15), HTML(value='')))"
      ]
     },
     "metadata": {},
     "output_type": "display_data"
    },
    {
     "name": "stdout",
     "output_type": "stream",
     "text": [
      "\n",
      "Calculating SMA\n"
     ]
    },
    {
     "data": {
      "application/vnd.jupyter.widget-view+json": {
       "model_id": "e48019d9a65344db85ad85def7eb15a5",
       "version_major": 2,
       "version_minor": 0
      },
      "text/plain": [
       "HBox(children=(IntProgress(value=0, max=15), HTML(value='')))"
      ]
     },
     "metadata": {},
     "output_type": "display_data"
    },
    {
     "name": "stdout",
     "output_type": "stream",
     "text": [
      "\n",
      "Calculating SMA\n"
     ]
    },
    {
     "data": {
      "application/vnd.jupyter.widget-view+json": {
       "model_id": "ba8010d3f20c49008fa919661f5c1cc3",
       "version_major": 2,
       "version_minor": 0
      },
      "text/plain": [
       "HBox(children=(IntProgress(value=0, max=15), HTML(value='')))"
      ]
     },
     "metadata": {},
     "output_type": "display_data"
    },
    {
     "name": "stdout",
     "output_type": "stream",
     "text": [
      "\n",
      "Calculating EMA\n"
     ]
    },
    {
     "data": {
      "application/vnd.jupyter.widget-view+json": {
       "model_id": "9f5a664dd9f74e1fbc5350ab8a1075b6",
       "version_major": 2,
       "version_minor": 0
      },
      "text/plain": [
       "HBox(children=(IntProgress(value=0, max=15), HTML(value='')))"
      ]
     },
     "metadata": {},
     "output_type": "display_data"
    },
    {
     "name": "stdout",
     "output_type": "stream",
     "text": [
      "\n",
      "Calculating WMA\n"
     ]
    },
    {
     "data": {
      "application/vnd.jupyter.widget-view+json": {
       "model_id": "100b7a1444864cee9d1d0e6826c2ee74",
       "version_major": 2,
       "version_minor": 0
      },
      "text/plain": [
       "HBox(children=(IntProgress(value=0, max=15), HTML(value='')))"
      ]
     },
     "metadata": {},
     "output_type": "display_data"
    },
    {
     "name": "stdout",
     "output_type": "stream",
     "text": [
      "\n",
      "Calculating HMA\n",
      "WMA calculated already. Proceed with HMA\n"
     ]
    },
    {
     "data": {
      "application/vnd.jupyter.widget-view+json": {
       "model_id": "554996672e7d47d9ba8ece392bb0a963",
       "version_major": 2,
       "version_minor": 0
      },
      "text/plain": [
       "HBox(children=(IntProgress(value=1, bar_style='info', max=1), HTML(value='')))"
      ]
     },
     "metadata": {},
     "output_type": "display_data"
    },
    {
     "name": "stdout",
     "output_type": "stream",
     "text": [
      "\n",
      "Calculating TRIX\n"
     ]
    },
    {
     "data": {
      "application/vnd.jupyter.widget-view+json": {
       "model_id": "969d03272d3147ca8bd05f1a2d4058fa",
       "version_major": 2,
       "version_minor": 0
      },
      "text/plain": [
       "HBox(children=(IntProgress(value=0, max=15), HTML(value='')))"
      ]
     },
     "metadata": {},
     "output_type": "display_data"
    },
    {
     "name": "stdout",
     "output_type": "stream",
     "text": [
      "\n",
      "Calculating CCI\n"
     ]
    },
    {
     "data": {
      "application/vnd.jupyter.widget-view+json": {
       "model_id": "006cccf4563e4464a215179198c1644c",
       "version_major": 2,
       "version_minor": 0
      },
      "text/plain": [
       "HBox(children=(IntProgress(value=0, max=15), HTML(value='')))"
      ]
     },
     "metadata": {},
     "output_type": "display_data"
    },
    {
     "name": "stdout",
     "output_type": "stream",
     "text": [
      "\n",
      "Calculating DPO\n"
     ]
    },
    {
     "data": {
      "application/vnd.jupyter.widget-view+json": {
       "model_id": "5da975d089e3476aae1659339098c5b8",
       "version_major": 2,
       "version_minor": 0
      },
      "text/plain": [
       "HBox(children=(IntProgress(value=0, max=15), HTML(value='')))"
      ]
     },
     "metadata": {},
     "output_type": "display_data"
    },
    {
     "name": "stdout",
     "output_type": "stream",
     "text": [
      "\n",
      "Calculating KST\n"
     ]
    },
    {
     "data": {
      "application/vnd.jupyter.widget-view+json": {
       "model_id": "90180abd337341cbb6e3b7aef2f42f7d",
       "version_major": 2,
       "version_minor": 0
      },
      "text/plain": [
       "HBox(children=(IntProgress(value=0, max=15), HTML(value='')))"
      ]
     },
     "metadata": {},
     "output_type": "display_data"
    },
    {
     "name": "stdout",
     "output_type": "stream",
     "text": [
      "\n",
      "Calculating DMI\n"
     ]
    },
    {
     "data": {
      "application/vnd.jupyter.widget-view+json": {
       "model_id": "88b431866df74733848bd92864837ba9",
       "version_major": 2,
       "version_minor": 0
      },
      "text/plain": [
       "HBox(children=(IntProgress(value=0, max=15), HTML(value='')))"
      ]
     },
     "metadata": {},
     "output_type": "display_data"
    },
    {
     "name": "stdout",
     "output_type": "stream",
     "text": [
      "\n",
      "Calculating Bollinger Band MAV\n"
     ]
    },
    {
     "data": {
      "application/vnd.jupyter.widget-view+json": {
       "model_id": "46eb62d92f52485fac338f97ac12c689",
       "version_major": 2,
       "version_minor": 0
      },
      "text/plain": [
       "HBox(children=(IntProgress(value=0, max=15), HTML(value='')))"
      ]
     },
     "metadata": {},
     "output_type": "display_data"
    },
    {
     "name": "stdout",
     "output_type": "stream",
     "text": [
      "\n",
      "Calculating Force Index\n"
     ]
    },
    {
     "data": {
      "application/vnd.jupyter.widget-view+json": {
       "model_id": "5bd8ea2b75c44bf298a93470b2a660d9",
       "version_major": 2,
       "version_minor": 0
      },
      "text/plain": [
       "HBox(children=(IntProgress(value=0, max=15), HTML(value='')))"
      ]
     },
     "metadata": {},
     "output_type": "display_data"
    },
    {
     "name": "stdout",
     "output_type": "stream",
     "text": [
      "\n",
      "Calculating KDJK, RSV\n"
     ]
    },
    {
     "data": {
      "application/vnd.jupyter.widget-view+json": {
       "model_id": "d49519a94d9d4f75bc95a99ac5b6217a",
       "version_major": 2,
       "version_minor": 0
      },
      "text/plain": [
       "HBox(children=(IntProgress(value=0, max=15), HTML(value='')))"
      ]
     },
     "metadata": {},
     "output_type": "display_data"
    },
    {
     "name": "stdout",
     "output_type": "stream",
     "text": [
      "\n",
      "Calculating EOM\n"
     ]
    },
    {
     "data": {
      "application/vnd.jupyter.widget-view+json": {
       "model_id": "512995682dda43b8873feda8a9a0e543",
       "version_major": 2,
       "version_minor": 0
      },
      "text/plain": [
       "HBox(children=(IntProgress(value=0, max=15), HTML(value='')))"
      ]
     },
     "metadata": {},
     "output_type": "display_data"
    },
    {
     "name": "stdout",
     "output_type": "stream",
     "text": [
      "\n"
     ]
    }
   ],
   "source": [
    "intervals = range(6, 21)  # 不同的周期长度，得到不同的特征\n",
    "col_name = 'close'\n",
    "\n",
    "df = data.copy()\n",
    "df = get_RSI_smooth(df, col_name, intervals)  \n",
    "df = get_williamR(df, col_name, intervals)  \n",
    "df = get_mfi(df, intervals)  \n",
    "df = get_ROC(df, col_name, intervals)  \n",
    "df = get_CMF(df, col_name, intervals)  \n",
    "df = get_CMO(df, col_name, intervals)  \n",
    "df = get_SMA(df, col_name, intervals)\n",
    "df = get_SMA(df, 'open', intervals) \n",
    "df = get_EMA(df, col_name, intervals) \n",
    "df = get_WMA(df, col_name, intervals)\n",
    "df = get_HMA(df, col_name, intervals)\n",
    "df = get_TRIX(df, col_name, intervals) \n",
    "df = get_CCI(df, col_name, intervals)  \n",
    "df = get_DPO(df, col_name, intervals)  \n",
    "df = get_kst(df, col_name, intervals)  \n",
    "df = get_DMI(df, col_name, intervals)  \n",
    "df = get_BB_MAV(df, col_name, intervals) \n",
    "df = get_force_index(df, intervals)\n",
    "df = get_kdjk_rsv(df, intervals)\n",
    "df = get_EOM(df, col_name, intervals)"
   ]
  },
  {
   "cell_type": "markdown",
   "metadata": {},
   "source": [
    "## 3.2 生成y\n",
    "### 利用11天窗口的收盘价。如果窗口内的中间数字最大，则将最后一天（第11天）标记为“卖出”，如果中间数字最小，则将最后一天标记为“买入”，否则标记为“持有”。这个想法是在谷底买入，在任何一个11天窗口的顶点卖出。"
   ]
  },
  {
   "cell_type": "code",
   "execution_count": 4,
   "metadata": {},
   "outputs": [],
   "source": [
    "### 标签生成函数 ###\n",
    "def create_labels(df, col_name, window_size=11):\n",
    "    \"\"\"\n",
    "    Data is labeled as per the logic in research paper\n",
    "    Label code : BUY => 1, SELL => 0, HOLD => 2\n",
    "\n",
    "    params :\n",
    "        df => Dataframe with data\n",
    "        col_name => name of column which should be used to determine strategy\n",
    "\n",
    "    returns : numpy array with integer codes for labels with\n",
    "              size = total-(window_size)+1\n",
    "    \"\"\"\n",
    "\n",
    "    row_counter = 0\n",
    "    total_rows = len(df)\n",
    "    labels = np.zeros(total_rows)\n",
    "    labels[:] = np.nan\n",
    "    print(\"Calculating labels\")\n",
    "    pbar = tqdm(total=total_rows)\n",
    "\n",
    "    while row_counter < total_rows:\n",
    "        if row_counter >= window_size - 1:\n",
    "            window_begin = row_counter - (window_size - 1)\n",
    "            window_end = row_counter\n",
    "            window_middle = (window_begin + window_end) / 2\n",
    "\n",
    "            min_ = np.inf\n",
    "            min_index = -1\n",
    "            max_ = -np.inf\n",
    "            max_index = -1\n",
    "            for i in range(window_begin, window_end + 1):\n",
    "                price = df.iloc[i][col_name]\n",
    "                if price < min_:\n",
    "                    min_ = price\n",
    "                    min_index = i\n",
    "                if price > max_:\n",
    "                    max_ = price\n",
    "                    max_index = i\n",
    "\n",
    "            if max_index == window_middle:\n",
    "                labels[row_counter] = 0\n",
    "            elif min_index == window_middle:\n",
    "                labels[row_counter] = 1\n",
    "            else:\n",
    "                labels[row_counter] = 2\n",
    "\n",
    "        row_counter = row_counter + 1\n",
    "        pbar.update(1)\n",
    "\n",
    "    pbar.close()\n",
    "    return labels"
   ]
  },
  {
   "cell_type": "code",
   "execution_count": 6,
   "metadata": {
    "scrolled": false
   },
   "outputs": [
    {
     "name": "stdout",
     "output_type": "stream",
     "text": [
      "Calculating labels\n"
     ]
    },
    {
     "data": {
      "application/vnd.jupyter.widget-view+json": {
       "model_id": "6a9abe39ea954653bb1de8596b604131",
       "version_major": 2,
       "version_minor": 0
      },
      "text/plain": [
       "HBox(children=(IntProgress(value=0, max=5033), HTML(value='')))"
      ]
     },
     "metadata": {},
     "output_type": "display_data"
    },
    {
     "name": "stdout",
     "output_type": "stream",
     "text": [
      "\n"
     ]
    },
    {
     "data": {
      "text/html": [
       "<div>\n",
       "<style scoped>\n",
       "    .dataframe tbody tr th:only-of-type {\n",
       "        vertical-align: middle;\n",
       "    }\n",
       "\n",
       "    .dataframe tbody tr th {\n",
       "        vertical-align: top;\n",
       "    }\n",
       "\n",
       "    .dataframe thead th {\n",
       "        text-align: right;\n",
       "    }\n",
       "</style>\n",
       "<table border=\"1\" class=\"dataframe\">\n",
       "  <thead>\n",
       "    <tr style=\"text-align: right;\">\n",
       "      <th></th>\n",
       "      <th>open</th>\n",
       "      <th>high</th>\n",
       "      <th>low</th>\n",
       "      <th>close</th>\n",
       "      <th>adjusted_close</th>\n",
       "      <th>volume</th>\n",
       "      <th>rsi_6</th>\n",
       "      <th>rsi_7</th>\n",
       "      <th>rsi_8</th>\n",
       "      <th>rsi_9</th>\n",
       "      <th>...</th>\n",
       "      <th>eom_12</th>\n",
       "      <th>eom_13</th>\n",
       "      <th>eom_14</th>\n",
       "      <th>eom_15</th>\n",
       "      <th>eom_16</th>\n",
       "      <th>eom_17</th>\n",
       "      <th>eom_18</th>\n",
       "      <th>eom_19</th>\n",
       "      <th>eom_20</th>\n",
       "      <th>labels</th>\n",
       "    </tr>\n",
       "    <tr>\n",
       "      <th>timestamp</th>\n",
       "      <th></th>\n",
       "      <th></th>\n",
       "      <th></th>\n",
       "      <th></th>\n",
       "      <th></th>\n",
       "      <th></th>\n",
       "      <th></th>\n",
       "      <th></th>\n",
       "      <th></th>\n",
       "      <th></th>\n",
       "      <th></th>\n",
       "      <th></th>\n",
       "      <th></th>\n",
       "      <th></th>\n",
       "      <th></th>\n",
       "      <th></th>\n",
       "      <th></th>\n",
       "      <th></th>\n",
       "      <th></th>\n",
       "      <th></th>\n",
       "      <th></th>\n",
       "    </tr>\n",
       "  </thead>\n",
       "  <tbody>\n",
       "    <tr>\n",
       "      <td>2000-02-08</td>\n",
       "      <td>57.31</td>\n",
       "      <td>59.69</td>\n",
       "      <td>56.88</td>\n",
       "      <td>59.50</td>\n",
       "      <td>41.3225</td>\n",
       "      <td>8576100</td>\n",
       "      <td>71.768707</td>\n",
       "      <td>53.181964</td>\n",
       "      <td>44.812826</td>\n",
       "      <td>46.959880</td>\n",
       "      <td>...</td>\n",
       "      <td>86.992339</td>\n",
       "      <td>86.992339</td>\n",
       "      <td>86.992339</td>\n",
       "      <td>86.992339</td>\n",
       "      <td>86.992339</td>\n",
       "      <td>86.992339</td>\n",
       "      <td>86.992339</td>\n",
       "      <td>86.992339</td>\n",
       "      <td>86.992339</td>\n",
       "      <td>2.0</td>\n",
       "    </tr>\n",
       "    <tr>\n",
       "      <td>2000-02-09</td>\n",
       "      <td>60.00</td>\n",
       "      <td>60.13</td>\n",
       "      <td>57.31</td>\n",
       "      <td>57.81</td>\n",
       "      <td>40.1488</td>\n",
       "      <td>8216600</td>\n",
       "      <td>60.752094</td>\n",
       "      <td>59.237386</td>\n",
       "      <td>45.391686</td>\n",
       "      <td>38.993472</td>\n",
       "      <td>...</td>\n",
       "      <td>14.929533</td>\n",
       "      <td>14.929533</td>\n",
       "      <td>14.929533</td>\n",
       "      <td>14.929533</td>\n",
       "      <td>14.929533</td>\n",
       "      <td>14.929533</td>\n",
       "      <td>14.929533</td>\n",
       "      <td>14.929533</td>\n",
       "      <td>14.929533</td>\n",
       "      <td>2.0</td>\n",
       "    </tr>\n",
       "    <tr>\n",
       "      <td>2000-02-10</td>\n",
       "      <td>57.63</td>\n",
       "      <td>58.38</td>\n",
       "      <td>56.81</td>\n",
       "      <td>57.00</td>\n",
       "      <td>39.5863</td>\n",
       "      <td>4591600</td>\n",
       "      <td>40.098375</td>\n",
       "      <td>57.972107</td>\n",
       "      <td>56.437408</td>\n",
       "      <td>43.665271</td>\n",
       "      <td>...</td>\n",
       "      <td>-38.466983</td>\n",
       "      <td>-38.466983</td>\n",
       "      <td>-38.466983</td>\n",
       "      <td>-38.466983</td>\n",
       "      <td>-38.466983</td>\n",
       "      <td>-38.466983</td>\n",
       "      <td>-38.466983</td>\n",
       "      <td>-38.466983</td>\n",
       "      <td>-38.466983</td>\n",
       "      <td>2.0</td>\n",
       "    </tr>\n",
       "    <tr>\n",
       "      <td>2000-02-11</td>\n",
       "      <td>57.44</td>\n",
       "      <td>57.50</td>\n",
       "      <td>55.63</td>\n",
       "      <td>56.06</td>\n",
       "      <td>38.9335</td>\n",
       "      <td>4816700</td>\n",
       "      <td>37.470024</td>\n",
       "      <td>36.454958</td>\n",
       "      <td>54.138590</td>\n",
       "      <td>52.788742</td>\n",
       "      <td>...</td>\n",
       "      <td>-39.987959</td>\n",
       "      <td>-39.987959</td>\n",
       "      <td>-39.987959</td>\n",
       "      <td>-39.987959</td>\n",
       "      <td>-39.987959</td>\n",
       "      <td>-39.987959</td>\n",
       "      <td>-39.987959</td>\n",
       "      <td>-39.987959</td>\n",
       "      <td>-39.987959</td>\n",
       "      <td>2.0</td>\n",
       "    </tr>\n",
       "    <tr>\n",
       "      <td>2000-02-14</td>\n",
       "      <td>56.69</td>\n",
       "      <td>58.88</td>\n",
       "      <td>56.50</td>\n",
       "      <td>58.88</td>\n",
       "      <td>40.8919</td>\n",
       "      <td>5803600</td>\n",
       "      <td>54.029082</td>\n",
       "      <td>53.699466</td>\n",
       "      <td>52.219964</td>\n",
       "      <td>62.998405</td>\n",
       "      <td>...</td>\n",
       "      <td>46.135157</td>\n",
       "      <td>46.135157</td>\n",
       "      <td>46.135157</td>\n",
       "      <td>46.135157</td>\n",
       "      <td>46.135157</td>\n",
       "      <td>46.135157</td>\n",
       "      <td>46.135157</td>\n",
       "      <td>46.135157</td>\n",
       "      <td>46.135157</td>\n",
       "      <td>2.0</td>\n",
       "    </tr>\n",
       "  </tbody>\n",
       "</table>\n",
       "<p>5 rows × 322 columns</p>\n",
       "</div>"
      ],
      "text/plain": [
       "             open   high    low  close  adjusted_close   volume      rsi_6  \\\n",
       "timestamp                                                                    \n",
       "2000-02-08  57.31  59.69  56.88  59.50         41.3225  8576100  71.768707   \n",
       "2000-02-09  60.00  60.13  57.31  57.81         40.1488  8216600  60.752094   \n",
       "2000-02-10  57.63  58.38  56.81  57.00         39.5863  4591600  40.098375   \n",
       "2000-02-11  57.44  57.50  55.63  56.06         38.9335  4816700  37.470024   \n",
       "2000-02-14  56.69  58.88  56.50  58.88         40.8919  5803600  54.029082   \n",
       "\n",
       "                rsi_7      rsi_8      rsi_9  ...     eom_12     eom_13  \\\n",
       "timestamp                                    ...                         \n",
       "2000-02-08  53.181964  44.812826  46.959880  ...  86.992339  86.992339   \n",
       "2000-02-09  59.237386  45.391686  38.993472  ...  14.929533  14.929533   \n",
       "2000-02-10  57.972107  56.437408  43.665271  ... -38.466983 -38.466983   \n",
       "2000-02-11  36.454958  54.138590  52.788742  ... -39.987959 -39.987959   \n",
       "2000-02-14  53.699466  52.219964  62.998405  ...  46.135157  46.135157   \n",
       "\n",
       "               eom_14     eom_15     eom_16     eom_17     eom_18     eom_19  \\\n",
       "timestamp                                                                      \n",
       "2000-02-08  86.992339  86.992339  86.992339  86.992339  86.992339  86.992339   \n",
       "2000-02-09  14.929533  14.929533  14.929533  14.929533  14.929533  14.929533   \n",
       "2000-02-10 -38.466983 -38.466983 -38.466983 -38.466983 -38.466983 -38.466983   \n",
       "2000-02-11 -39.987959 -39.987959 -39.987959 -39.987959 -39.987959 -39.987959   \n",
       "2000-02-14  46.135157  46.135157  46.135157  46.135157  46.135157  46.135157   \n",
       "\n",
       "               eom_20  labels  \n",
       "timestamp                      \n",
       "2000-02-08  86.992339     2.0  \n",
       "2000-02-09  14.929533     2.0  \n",
       "2000-02-10 -38.466983     2.0  \n",
       "2000-02-11 -39.987959     2.0  \n",
       "2000-02-14  46.135157     2.0  \n",
       "\n",
       "[5 rows x 322 columns]"
      ]
     },
     "execution_count": 6,
     "metadata": {},
     "output_type": "execute_result"
    }
   ],
   "source": [
    "\n",
    "df['labels'] = create_labels(df, col_name)  # 生成标签\n",
    "df.drop(columns=['dividend_amount', 'split_coefficient'], inplace=True)\n",
    "df.dropna(inplace=True)\n",
    "df.head()  # 最终数据"
   ]
  },
  {
   "cell_type": "markdown",
   "metadata": {},
   "source": [
    "## 3.3 归一化(0-1)、特征选择(选择225个特征)"
   ]
  },
  {
   "cell_type": "code",
   "execution_count": 7,
   "metadata": {},
   "outputs": [
    {
     "name": "stdout",
     "output_type": "stream",
     "text": [
      "Total number of features 321\n"
     ]
    }
   ],
   "source": [
    "list_features = list(df.loc[:, 'open':'eom_20'].columns)\n",
    "print('Total number of features', len(list_features))"
   ]
  },
  {
   "cell_type": "code",
   "execution_count": 8,
   "metadata": {},
   "outputs": [
    {
     "name": "stdout",
     "output_type": "stream",
     "text": [
      "Shape of x, y train/test (4010, 321) (4010,) (1003, 321) (1003,)\n"
     ]
    }
   ],
   "source": [
    "x_train, x_test, y_train, y_test = train_test_split(df.loc[:, 'open':'eom_20'].values,\n",
    "                                                   df['labels'].values, train_size=0.8,\n",
    "                                                   test_size=0.2, random_state=2,\n",
    "                                                   shuffle=True,stratify=df['labels'].values)\n",
    "\n",
    "\n",
    "### 归一化\n",
    "mm_scaler = MinMaxScaler(feature_range=(0, 1)) \n",
    "x_train = mm_scaler.fit_transform(x_train)\n",
    "x_test = mm_scaler.transform(x_test)\n",
    "x_main = x_train.copy()\n",
    "print(\"Shape of x, y train/test {} {} {} {}\".format(x_train.shape, y_train.shape, x_test.shape, y_test.shape))"
   ]
  },
  {
   "cell_type": "code",
   "execution_count": 9,
   "metadata": {},
   "outputs": [
    {
     "name": "stdout",
     "output_type": "stream",
     "text": [
      "('rsi_6', 'rsi_7', 'rsi_13', 'rsi_14', 'rsi_15', 'rsi_16', 'rsi_19', 'wr_6', 'wr_7', 'wr_8', 'wr_9', 'wr_10', 'wr_11', 'wr_12', 'wr_13', 'wr_14', 'wr_15', 'wr_16', 'wr_17', 'wr_18', 'wr_19', 'wr_20', 'mfi_6', 'mfi_7', 'mfi_8', 'mfi_14', 'roc_6', 'roc_7', 'roc_8', 'roc_14', 'roc_16', 'roc_17', 'cmf_6', 'cmf_7', 'cmf_10', 'cmf_11', 'cmo_6', 'cmo_7', 'cmo_8', 'cmo_14', 'cmo_15', 'cmo_16', 'cmo_17', 'cmo_20', 'close_sma_6', 'close_sma_7', 'close_sma_8', 'close_sma_9', 'close_sma_10', 'close_sma_11', 'close_sma_12', 'close_sma_13', 'close_sma_14', 'open_sma_6', 'open_sma_7', 'open_sma_8', 'open_sma_9', 'open_sma_10', 'open_sma_11', 'open_sma_12', 'open_sma_13', 'wma_7', 'wma_8', 'wma_9', 'wma_10', 'wma_11', 'wma_12', 'wma_13', 'wma_14', 'wma_15', 'wma_16', 'wma_17', 'wma_18', 'wma_19', 'wma_20', 'hma_5', 'hma_6', 'hma_7', 'hma_8', 'hma_9', 'hma_10', 'hma_11', 'hma_12', 'hma_13', 'hma_14', 'trix_7', 'trix_8', 'trix_9', 'trix_10', 'trix_11', 'trix_12', 'trix_13', 'trix_14', 'trix_15', 'trix_16', 'trix_17', 'trix_18', 'trix_19', 'trix_20', 'cci_6', 'cci_7', 'cci_8', 'cci_9', 'cci_10', 'cci_11', 'cci_12', 'cci_13', 'cci_14', 'cci_15', 'cci_16', 'cci_17', 'cci_18', 'cci_19', 'cci_20', 'dpo_6', 'dpo_7', 'dpo_8', 'dpo_9', 'dpo_10', 'dpo_11', 'dpo_13', 'dpo_14', 'dpo_15', 'dpo_16', 'dpo_17', 'dpo_18', 'dpo_19', 'dpo_20', 'kst_6', 'kst_7', 'kst_8', 'kst_9', 'kst_10', 'kst_11', 'kst_12', 'kst_13', 'kst_14', 'kst_15', 'kst_16', 'kst_17', 'kst_18', 'kst_19', 'kst_20', 'dmi_6', 'dmi_7', 'dmi_8', 'dmi_9', 'dmi_10', 'dmi_11', 'dmi_12', 'dmi_13', 'dmi_14', 'dmi_15', 'dmi_16', 'dmi_17', 'dmi_18', 'dmi_19', 'dmi_20', 'bb_6', 'bb_7', 'bb_8', 'bb_9', 'bb_10', 'bb_11', 'bb_12', 'bb_13', 'bb_14', 'fi_6', 'fi_7', 'fi_8', 'fi_9', 'fi_10', 'fi_11', 'fi_12', 'fi_13', 'fi_14', 'fi_15', 'fi_16', 'fi_17', 'fi_18', 'fi_19', 'fi_20', 'rsv_6', 'kdjk_6', 'rsv_7', 'kdjk_7', 'rsv_8', 'kdjk_8', 'rsv_9', 'kdjk_9', 'rsv_10', 'kdjk_10', 'rsv_11', 'kdjk_11', 'rsv_12', 'kdjk_12', 'rsv_13', 'kdjk_13', 'rsv_14', 'kdjk_14', 'rsv_15', 'kdjk_15', 'rsv_16', 'kdjk_16', 'rsv_17', 'kdjk_17', 'rsv_18', 'kdjk_18', 'rsv_19', 'rsv_20', 'eom_6', 'eom_7', 'eom_8', 'eom_9', 'eom_10', 'eom_11', 'eom_12', 'eom_13', 'eom_14', 'eom_15', 'eom_16', 'eom_17', 'eom_18', 'eom_19', 'eom_20')\n",
      "[  6   7  13  14  15  16  19  21  22  23  24  25  26  27  28  29  30  31\n",
      "  32  33  34  35  36  37  38  44  51  52  53  59  61  62  66  67  70  71\n",
      "  81  82  83  89  90  91  92  95  96  97  98  99 100 101 102 103 104 111\n",
      " 112 113 114 115 116 117 118 142 143 144 145 146 147 148 149 150 151 152\n",
      " 153 154 155 161 162 163 164 165 166 167 168 169 170 172 173 174 175 176\n",
      " 177 178 179 180 181 182 183 184 185 186 187 188 189 190 191 192 193 194\n",
      " 195 196 197 198 199 200 201 202 203 204 205 206 208 209 210 211 212 213\n",
      " 214 215 216 217 218 219 220 221 222 223 224 225 226 227 228 229 230 231\n",
      " 232 233 234 235 236 237 238 239 240 241 242 243 244 245 246 247 248 249\n",
      " 250 251 252 253 254 261 262 263 264 265 266 267 268 269 270 271 272 273\n",
      " 274 275 276 277 278 279 280 281 282 283 284 285 286 287 288 289 290 291\n",
      " 292 293 294 295 296 297 298 299 300 301 302 304 306 307 308 309 310 311\n",
      " 312 313 314 315 316 317 318 319 320]\n"
     ]
    }
   ],
   "source": [
    "### 特征选择\n",
    "num_features = 225  \n",
    "\n",
    "select_k_best = SelectKBest(f_classif, k=num_features)  # f_classif(计算特征和标签之间的相关性F-检验):计算方法， K:选个的特征个数,  \n",
    "x_train = select_k_best.fit_transform(x_main, y_train)\n",
    "x_test = select_k_best.transform(x_test)\n",
    "selected_features_anova = itemgetter(*select_k_best.get_support(indices=True))(list_features)\n",
    "print(selected_features_anova)\n",
    "print(select_k_best.get_support(indices=True))"
   ]
  },
  {
   "cell_type": "code",
   "execution_count": 10,
   "metadata": {},
   "outputs": [
    {
     "name": "stdout",
     "output_type": "stream",
     "text": [
      "Shape of x, y train/cv/test (4010, 225) (4010,)  (1003, 225) (1003,)\n"
     ]
    }
   ],
   "source": [
    "print(\"Shape of x, y train/cv/test {} {}  {} {}\".format(x_train.shape,y_train.shape, x_test.shape, y_test.shape))"
   ]
  },
  {
   "cell_type": "markdown",
   "metadata": {},
   "source": [
    "## 3.4 类别不平衡处理\n",
    "### 实际上，本文提出的标记算法产生了相当多的买进/卖出实例。而实际的策略都会产生更少的实例。但即便如此，“持有”数量还是远远大于买入/卖出。"
   ]
  },
  {
   "cell_type": "code",
   "execution_count": 11,
   "metadata": {},
   "outputs": [
    {
     "name": "stdout",
     "output_type": "stream",
     "text": [
      "percentage of class 0 = 6.384039900249376, class 1 = 6.134663341645885, class 2 = 87.48129675810475\n"
     ]
    }
   ],
   "source": [
    "_labels, _counts = np.unique(y_train, return_counts=True)\n",
    "print(\"percentage of class 0 = {}, class 1 = {}, class 2 = {}\".format(_counts[0]/len(y_train) * 100, _counts[1]/len(y_train) * 100, _counts[2]/len(y_train) * 100))"
   ]
  },
  {
   "cell_type": "markdown",
   "metadata": {},
   "source": [
    "### 可以看到类别分布极不平衡，因此在训练过程中需要调整类别的权重，否则model会全部预测为类别2，模型失去意义"
   ]
  },
  {
   "cell_type": "code",
   "execution_count": 12,
   "metadata": {},
   "outputs": [],
   "source": [
    "### 权重计算函数\n",
    "def get_sample_weights(y):\n",
    "\n",
    "    y = y.astype(int)  # compute_class_weights needs int labels\n",
    "    class_weights = compute_class_weight('balanced', np.unique(y), y)\n",
    "    \n",
    "    print('real class weights are {}'.format(class_weights), np.unique(y))\n",
    "    print('value_counts', np.unique(y, return_counts=True))\n",
    "    sample_weights = y.copy().astype(float)\n",
    "    for i in np.unique(y):\n",
    "        sample_weights[sample_weights == i]= class_weights[i]\n",
    "        \n",
    "    return sample_weights"
   ]
  },
  {
   "cell_type": "code",
   "execution_count": 13,
   "metadata": {},
   "outputs": [
    {
     "name": "stdout",
     "output_type": "stream",
     "text": [
      "real class weights are [5.22135417 5.43360434 0.38103383] [0 1 2]\n",
      "value_counts (array([0, 1, 2]), array([ 256,  246, 3508], dtype=int64))\n"
     ]
    }
   ],
   "source": [
    "### 类别权重\n",
    "sample_weights = get_sample_weights(y_train)"
   ]
  },
  {
   "cell_type": "markdown",
   "metadata": {},
   "source": [
    "## 3.5 可视化数据\n",
    "### 将samples×255变为samples×3×15×15的图像矩阵"
   ]
  },
  {
   "cell_type": "code",
   "execution_count": 14,
   "metadata": {},
   "outputs": [],
   "source": [
    "def reshape_as_image(x, img_width, img_height):\n",
    "    x_temp = np.zeros((len(x), img_height, img_width))\n",
    "    for i in range(x.shape[0]):\n",
    "        x_temp[i] = np.reshape(x[i], (img_height, img_width))\n",
    "    return x_temp"
   ]
  },
  {
   "cell_type": "code",
   "execution_count": 15,
   "metadata": {},
   "outputs": [
    {
     "name": "stdout",
     "output_type": "stream",
     "text": [
      "x_train.shape:(4010, 15, 15), x_test.shape:(1003, 15, 15)\n"
     ]
    }
   ],
   "source": [
    "dim = int(np.sqrt(num_features))\n",
    "x_train = reshape_as_image(x_train, dim, dim)\n",
    "x_test = reshape_as_image(x_test, dim, dim)\n",
    "print('x_train.shape:%s, x_test.shape:%s'%(x_train.shape,x_test.shape))"
   ]
  },
  {
   "cell_type": "code",
   "execution_count": 16,
   "metadata": {},
   "outputs": [
    {
     "name": "stdout",
     "output_type": "stream",
     "text": [
      "final shape of x, y train/test (4010, 15, 15, 3) (4010,) (1003, 15, 15, 3) (1003,)\n"
     ]
    }
   ],
   "source": [
    "# 增加一个通道3（类似于彩色图片的RGB）\n",
    "x_train = np.stack((x_train,) * 3, axis=-1)\n",
    "x_test = np.stack((x_test,) * 3, axis=-1)\n",
    "print(\"final shape of x, y train/test {} {} {} {}\".format(x_train.shape, y_train.shape, x_test.shape, y_test.shape))"
   ]
  },
  {
   "cell_type": "markdown",
   "metadata": {},
   "source": [
    "### 可视化样本"
   ]
  },
  {
   "cell_type": "code",
   "execution_count": 17,
   "metadata": {},
   "outputs": [
    {
     "data": {
      "image/png": "[encoded data removed]",
      "text/plain": [
       "<Figure size 1080x1080 with 9 Axes>"
      ]
     },
     "metadata": {
      "needs_background": "light"
     },
     "output_type": "display_data"
    }
   ],
   "source": [
    "%matplotlib inline\n",
    "fig = plt.figure(figsize=(15, 15))\n",
    "columns = rows = 3\n",
    "for i in range(1, columns * rows + 1):\n",
    "    index = np.random.randint(len(x_train)) # 随机抽取一幅图\n",
    "    img = x_train[index]\n",
    "    fig.add_subplot(rows, columns, i)\n",
    "    plt.axis('off')\n",
    "    plt.title('image_' + str(index) + '_class_' + str(int(y_train[index])),\n",
    "             fontsize=10)\n",
    "    plt.subplots_adjust(wspace=0.2, hspace=0.2)\n",
    "    plt.imshow(img)\n",
    "plt.savefig('C:/Users/82706/Desktop/远程实习汇报_李宏煜/第二次/samples.png',dpi=300)"
   ]
  },
  {
   "cell_type": "markdown",
   "metadata": {},
   "source": [
    "# 4、网络的搭建与训练"
   ]
  },
  {
   "cell_type": "code",
   "execution_count": 18,
   "metadata": {},
   "outputs": [],
   "source": [
    "import torch\n",
    "import torch.nn as nn\n",
    "import torch.nn.functional as F\n",
    "import torch.optim as optim\n",
    "\n",
    "from sklearn.metrics import f1_score"
   ]
  },
  {
   "cell_type": "markdown",
   "metadata": {},
   "source": [
    "## 4.1 使用PyTorch搭建网络\n",
    "### 网络结构如下所示(为了与原文的结果对比，这里也不加池化层)：\n",
    "### 卷积层1---->Dropout层1---->卷积层2---->Dropout层2---->全连接层1---->Dropout层3---->全连接层2（输出层）"
   ]
  },
  {
   "cell_type": "code",
   "execution_count": 19,
   "metadata": {},
   "outputs": [],
   "source": [
    "# 计算卷积层的输出维度\n",
    "def calc_output_dim(n,f,p,s): # n输入维度，f:filter_size, p:padding, s:stride\n",
    "    return (n-f+2*p)/s + 1\n",
    "\n",
    "# \"VALID\" = without padding:\n",
    "# \"SAME\" = with zero padding:\n",
    "\n",
    "class ConvNet(nn.Module):\n",
    "    def __init__(self):\n",
    "        super().__init__()\n",
    "        self.conv = nn.Sequential(\n",
    "            nn.Conv2d(3,35, \n",
    "                     kernel_size=2,\n",
    "                     stride=1,\n",
    "                      padding=0),\n",
    "            # 15 * 15 * 3 ---> 14 * 14 * 35  (14根据calc_output_dim(15,2,0,1)计算得到)\n",
    "            nn.ReLU(),\n",
    "#             nn.MaxPool2d(kernel_size=2,  \n",
    "#                          stride=2), #  Default value is :attr:`kernel_size`\n",
    "            # 14 * 14 * 35 ---> 7 * 7 *35 \n",
    "            nn.Dropout(0.22),\n",
    "            \n",
    "            nn.Conv2d(35, 20,\n",
    "                     kernel_size=2,\n",
    "                     stride=2,\n",
    "                      padding=0),\n",
    "            # 7 * 7 * 35 --->\n",
    "            nn.ReLU(),\n",
    "#             nn.MaxPool2d(kernel_size=2, stride=2),\n",
    "            # 14 * 14 * 35 ---> 7 * 7 * 20  (7根据calc_output_dim(7,2,0,2)计算得到)\n",
    "            nn.Dropout(0.05)\n",
    "        )\n",
    "        \n",
    "        self.fc = nn.Sequential(\n",
    "            nn.Linear(7*7*20, 100),\n",
    "            nn.ReLU(),\n",
    "            nn.Dropout(0.22),\n",
    "            nn.Linear(100, 3)\n",
    "        )\n",
    "    \n",
    "    def forward(self, x):\n",
    "        out = self.conv(x)\n",
    "        out = out.view(out.size()[0], -1)  # Flatten\n",
    "        out = self.fc(out)\n",
    "        return out"
   ]
  },
  {
   "cell_type": "code",
   "execution_count": 42,
   "metadata": {},
   "outputs": [
    {
     "data": {
      "text/plain": [
       "<bound method Module.parameters of ConvNet(\n",
       "  (conv): Sequential(\n",
       "    (0): Conv2d(3, 35, kernel_size=(2, 2), stride=(1, 1))\n",
       "    (1): ReLU()\n",
       "    (2): Dropout(p=0.22)\n",
       "    (3): Conv2d(35, 20, kernel_size=(2, 2), stride=(2, 2))\n",
       "    (4): ReLU()\n",
       "    (5): Dropout(p=0.05)\n",
       "  )\n",
       "  (fc): Sequential(\n",
       "    (0): Linear(in_features=980, out_features=100, bias=True)\n",
       "    (1): ReLU()\n",
       "    (2): Dropout(p=0.22)\n",
       "    (3): Linear(in_features=100, out_features=3, bias=True)\n",
       "  )\n",
       ")>"
      ]
     },
     "execution_count": 42,
     "metadata": {},
     "output_type": "execute_result"
    }
   ],
   "source": [
    "model.parameters"
   ]
  },
  {
   "cell_type": "markdown",
   "metadata": {},
   "source": [
    "## 4.2 训练函数"
   ]
  },
  {
   "cell_type": "code",
   "execution_count": 38,
   "metadata": {},
   "outputs": [],
   "source": [
    "# train the model \n",
    "\n",
    "def train(model, optimizer, epoch):\n",
    "    for i in range(N_train):\n",
    "        x_train0 = x_train[i*BAYCH_SIZE:(i+1)*BAYCH_SIZE,:]\n",
    "        y_train0 = y_train[i*BAYCH_SIZE:(i+1)*BAYCH_SIZE]\n",
    "        outputs = model(x_train0.float())\n",
    "        y_train0 = y_train0.long()\n",
    "        loss = criterion(outputs, y_train0)\n",
    "        optimizer.zero_grad()\n",
    "        loss.backward()\n",
    "        optimizer.step()\n",
    "    if epoch % 10 == 0:\n",
    "        print('Train Epoch: {} Loss: {:.6f}'.format(epoch, loss.item()))\n",
    "            \n",
    "# Test the model\n",
    "def test(model,epoch):\n",
    "    model.eval()\n",
    "    test_loss = 0\n",
    "    correct  = 0\n",
    "    total = 0\n",
    "    for i in range(N_test):\n",
    "        x_test0 = x_test[i*BAYCH_SIZE:(i+1)*BAYCH_SIZE,:]\n",
    "        y_test0 = y_test[i*BAYCH_SIZE:(i+1)*BAYCH_SIZE]\n",
    "        y_test0 = y_test0.long()\n",
    "        outputs = model(x_test0.float())\n",
    "        _, predicted = torch.max(outputs.data, 1)\n",
    "#         print('predicted',predicted)\n",
    "        total += y_test0.size()[0]\n",
    "        correct += (predicted == y_test0).sum().item()\n",
    "    if epoch % 10 == 0:\n",
    "        print('Test Accuracy of the model : {} %'.format(100 * correct / total))\n",
    "        print('F-score of the model :%f'%(f1_score(y_test0,predicted,average='micro')))"
   ]
  },
  {
   "cell_type": "markdown",
   "metadata": {},
   "source": [
    "### Pytorch跟Tf或者keras处理图片的方式有个不同之处，就是在Tf或者keras中，最后一个维度是通道数，而Pytorch中第一个维度是通道数，我这里用的是Pytorch，因此需要将维度做一下调整"
   ]
  },
  {
   "cell_type": "code",
   "execution_count": 21,
   "metadata": {},
   "outputs": [],
   "source": [
    "x_train,  x_test = x_train.reshape(-1,3,15,15),x_test.reshape(-1,3,15,15)\n",
    "x_train, y_train, x_test, y_test = torch.from_numpy(x_train),torch.from_numpy(y_train),torch.from_numpy(x_test),torch.from_numpy(y_test),"
   ]
  },
  {
   "cell_type": "code",
   "execution_count": 27,
   "metadata": {},
   "outputs": [],
   "source": [
    "###  部分网络训练超参数\n",
    "BAYCH_SIZE = 80 \n",
    "EPOCHS = 200\n",
    "Len_train = len(x_train)\n",
    "N_train = int(Len_train / BAYCH_SIZE)\n",
    "Len_test = len(x_test)\n",
    "N_test = int(Len_test / BAYCH_SIZE)"
   ]
  },
  {
   "cell_type": "markdown",
   "metadata": {},
   "source": [
    "### 训练过程中一定要加上类别权重，否则模型学不到东西"
   ]
  },
  {
   "cell_type": "code",
   "execution_count": 40,
   "metadata": {},
   "outputs": [],
   "source": [
    "weights_ = [5.22135417, 5.43360434 ,0.38103383]  # 前面计算得到\n",
    "model = ConvNet()\n",
    "model = model.float()\n",
    "criterion = nn.CrossEntropyLoss(weight=torch.from_numpy(np.array(weights_)).float())\n",
    "optimizer = optim.Adam(model.parameters())"
   ]
  },
  {
   "cell_type": "markdown",
   "metadata": {},
   "source": [
    "### 训练函数"
   ]
  },
  {
   "cell_type": "code",
   "execution_count": 41,
   "metadata": {},
   "outputs": [
    {
     "data": {
      "application/vnd.jupyter.widget-view+json": {
       "model_id": "8dc0443f83004626ae4424806c4e239a",
       "version_major": 2,
       "version_minor": 0
      },
      "text/plain": [
       "HBox(children=(IntProgress(value=0, max=200), HTML(value='')))"
      ]
     },
     "metadata": {},
     "output_type": "display_data"
    },
    {
     "name": "stdout",
     "output_type": "stream",
     "text": [
      "Train Epoch: 0 Loss: 1.043302\n",
      "Test Accuracy of the model : 26.354166666666668 %\n",
      "F-score of the model :0.237500\n",
      "Train Epoch: 10 Loss: 0.407469\n",
      "Test Accuracy of the model : 73.85416666666667 %\n",
      "F-score of the model :0.762500\n",
      "Train Epoch: 20 Loss: 0.311845\n",
      "Test Accuracy of the model : 81.66666666666667 %\n",
      "F-score of the model :0.800000\n",
      "Train Epoch: 30 Loss: 0.250657\n",
      "Test Accuracy of the model : 82.39583333333333 %\n",
      "F-score of the model :0.825000\n",
      "Train Epoch: 40 Loss: 0.244879\n",
      "Test Accuracy of the model : 83.64583333333333 %\n",
      "F-score of the model :0.837500\n",
      "Train Epoch: 50 Loss: 0.171755\n",
      "Test Accuracy of the model : 86.04166666666667 %\n",
      "F-score of the model :0.912500\n",
      "Train Epoch: 60 Loss: 0.114550\n",
      "Test Accuracy of the model : 88.85416666666667 %\n",
      "F-score of the model :0.887500\n",
      "Train Epoch: 70 Loss: 0.081047\n",
      "Test Accuracy of the model : 90.0 %\n",
      "F-score of the model :0.875000\n",
      "Train Epoch: 80 Loss: 0.074393\n",
      "Test Accuracy of the model : 89.58333333333333 %\n",
      "F-score of the model :0.875000\n",
      "Train Epoch: 90 Loss: 0.111906\n",
      "Test Accuracy of the model : 88.33333333333333 %\n",
      "F-score of the model :0.900000\n",
      "Train Epoch: 100 Loss: 0.056388\n",
      "Test Accuracy of the model : 89.375 %\n",
      "F-score of the model :0.900000\n",
      "Train Epoch: 110 Loss: 0.051575\n",
      "Test Accuracy of the model : 89.375 %\n",
      "F-score of the model :0.875000\n",
      "Train Epoch: 120 Loss: 0.076010\n",
      "Test Accuracy of the model : 89.375 %\n",
      "F-score of the model :0.887500\n",
      "Train Epoch: 130 Loss: 0.023456\n",
      "Test Accuracy of the model : 90.72916666666667 %\n",
      "F-score of the model :0.887500\n",
      "Train Epoch: 140 Loss: 0.030912\n",
      "Test Accuracy of the model : 90.72916666666667 %\n",
      "F-score of the model :0.900000\n",
      "Train Epoch: 150 Loss: 0.016790\n",
      "Test Accuracy of the model : 90.72916666666667 %\n",
      "F-score of the model :0.887500\n",
      "Train Epoch: 160 Loss: 0.028939\n",
      "Test Accuracy of the model : 90.83333333333333 %\n",
      "F-score of the model :0.887500\n",
      "Train Epoch: 170 Loss: 0.025017\n",
      "Test Accuracy of the model : 91.25 %\n",
      "F-score of the model :0.875000\n",
      "Train Epoch: 180 Loss: 0.018205\n",
      "Test Accuracy of the model : 90.41666666666667 %\n",
      "F-score of the model :0.875000\n",
      "Train Epoch: 190 Loss: 0.021007\n",
      "Test Accuracy of the model : 91.25 %\n",
      "F-score of the model :0.900000\n",
      "\n"
     ]
    }
   ],
   "source": [
    "for epoch in tqdm(range(EPOCHS)):\n",
    "    train(model, optimizer,epoch)\n",
    "    test(model,epoch)"
   ]
  }
 ],
 "metadata": {
  "kernelspec": {
   "display_name": "Python 3",
   "language": "python",
   "name": "python3"
  },
  "language_info": {
   "codemirror_mode": {
    "name": "ipython",
    "version": 3
   },
   "file_extension": ".py",
   "mimetype": "text/x-python",
   "name": "python",
   "nbconvert_exporter": "python",
   "pygments_lexer": "ipython3",
   "version": "3.7.3"
  }
 },
 "nbformat": 4,
 "nbformat_minor": 2
}
